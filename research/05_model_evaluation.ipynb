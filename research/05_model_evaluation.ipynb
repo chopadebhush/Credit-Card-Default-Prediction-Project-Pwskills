{
 "cells": [
  {
   "cell_type": "code",
   "execution_count": 1,
   "metadata": {},
   "outputs": [],
   "source": [
    "import os"
   ]
  },
  {
   "cell_type": "code",
   "execution_count": 2,
   "metadata": {},
   "outputs": [
    {
     "data": {
      "text/plain": [
       "'c:\\\\Users\\\\SIR\\\\Credit-Card-Default-Prediction-Project-Pwskills\\\\research'"
      ]
     },
     "execution_count": 2,
     "metadata": {},
     "output_type": "execute_result"
    }
   ],
   "source": [
    "%pwd"
   ]
  },
  {
   "cell_type": "code",
   "execution_count": 3,
   "metadata": {},
   "outputs": [],
   "source": [
    "os.chdir(\"../\")"
   ]
  },
  {
   "cell_type": "code",
   "execution_count": 4,
   "metadata": {},
   "outputs": [
    {
     "data": {
      "text/plain": [
       "'c:\\\\Users\\\\SIR\\\\Credit-Card-Default-Prediction-Project-Pwskills'"
      ]
     },
     "execution_count": 4,
     "metadata": {},
     "output_type": "execute_result"
    }
   ],
   "source": [
    "%pwd"
   ]
  },
  {
   "cell_type": "code",
   "execution_count": 5,
   "metadata": {},
   "outputs": [],
   "source": [
    "from dataclasses import dataclass\n",
    "from pathlib import Path\n",
    "\n",
    "@dataclass(frozen=True)\n",
    "class ModelEvaluationConfig:\n",
    "    model_file: Path\n",
    "    evaluation_metrics_file: Path\n",
    "    test_file: Path"
   ]
  },
  {
   "cell_type": "code",
   "execution_count": 7,
   "metadata": {},
   "outputs": [],
   "source": [
    "from ccdp.constants import *\n",
    "from ccdp.utils.common import read_yaml, create_directories"
   ]
  },
  {
   "cell_type": "code",
   "execution_count": 12,
   "metadata": {},
   "outputs": [],
   "source": [
    "#from src.ccdp.entity.data_evaluation import ModelEvaluationConfig\n",
    "\n",
    "class ConfigurationManager:\n",
    "    def __init__(self, config_filepath=CONFIG_FILE_PATH, params_filepath=PARAMS_FILE_PATH):\n",
    "        self.config = read_yaml(config_filepath)\n",
    "        self.params = read_yaml(params_filepath)\n",
    "        \n",
    "        create_directories([self.config.artifacts_root])\n",
    "\n",
    "    # Model Evaluation Configuration\n",
    "    def get_model_evaluation_config(self) -> ModelEvaluationConfig:\n",
    "        config = self.config.model_evaluation\n",
    "\n",
    "        evaluation_metrics_path = Path(config.evaluation_metrics_file)\n",
    "        create_directories([evaluation_metrics_path.parent])\n",
    "\n",
    "        model_evaluation_config = ModelEvaluationConfig(\n",
    "            model_file=Path(config.model_file),\n",
    "            evaluation_metrics_file=evaluation_metrics_path,\n",
    "            test_file=Path(config.test_file)\n",
    "        )\n",
    "\n",
    "        return model_evaluation_config"
   ]
  },
  {
   "cell_type": "code",
   "execution_count": 13,
   "metadata": {},
   "outputs": [],
   "source": [
    "import pandas as pd\n",
    "import pickle\n",
    "from sklearn.metrics import accuracy_score, classification_report\n",
    "from pathlib import Path\n",
    "from ccdp.logging import logger\n",
    "\n",
    "class ModelEvaluation:\n",
    "    def __init__(self, config: ModelEvaluationConfig):\n",
    "        self.config = config\n",
    "\n",
    "    def load_model(self):\n",
    "        with open(self.config.model_file, \"rb\") as model_file:\n",
    "            self.model = pickle.load(model_file)\n",
    "        logger.info(f\"Model loaded from {self.config.model_file}\")\n",
    "\n",
    "    def evaluate(self):\n",
    "        # Load test dataset\n",
    "        test_df = pd.read_csv(self.config.test_file)\n",
    "        X_test = test_df.drop(columns=['default'])  # Assuming 'default' is the target column\n",
    "        y_test = test_df['default']\n",
    "        \n",
    "        # Make predictions\n",
    "        y_pred = self.model.predict(X_test)\n",
    "        \n",
    "        # Evaluate the model\n",
    "        accuracy = accuracy_score(y_test, y_pred)\n",
    "        report = classification_report(y_test, y_pred)\n",
    "        \n",
    "        # Save metrics\n",
    "        self.save_metrics(accuracy, report)\n",
    "        \n",
    "        logger.info(f\"Model evaluation completed with accuracy: {accuracy}\")\n",
    "\n",
    "    def save_metrics(self, accuracy, report):\n",
    "        with open(self.config.evaluation_metrics_file, \"w\") as metrics_file:\n",
    "            metrics_file.write(f\"Accuracy: {accuracy}\\n\\n\")\n",
    "            metrics_file.write(\"Classification Report:\\n\")\n",
    "            metrics_file.write(report)\n",
    "        logger.info(f\"Evaluation metrics saved to {self.config.evaluation_metrics_file}\")\n"
   ]
  },
  {
   "cell_type": "code",
   "execution_count": 14,
   "metadata": {},
   "outputs": [
    {
     "name": "stdout",
     "output_type": "stream",
     "text": [
      "[2024-08-21 00:18:21,732: INFO: common: yaml file: config\\config.yaml loaded successfully]\n",
      "[2024-08-21 00:18:21,737: INFO: common: yaml file: params.yaml loaded successfully]\n",
      "[2024-08-21 00:18:21,740: INFO: common: created directory at: artifacts]\n",
      "[2024-08-21 00:18:21,745: INFO: common: created directory at: artifacts\\model_evaluation]\n",
      "[2024-08-21 00:18:22,077: INFO: 3709180523: Model loaded from artifacts\\model_training\\models\\model.pkl]\n",
      "[2024-08-21 00:18:22,296: INFO: 3709180523: Evaluation metrics saved to artifacts\\model_evaluation\\metrics.txt]\n",
      "[2024-08-21 00:18:22,298: INFO: 3709180523: Model evaluation completed with accuracy: 0.818]\n",
      "[2024-08-21 00:18:22,302: INFO: 3051264557: Model evaluation pipeline completed successfully.]\n"
     ]
    }
   ],
   "source": [
    "#from src.ccdp.config.configuration import ConfigurationManager\n",
    "#from src.ccdp.components.model_evaluation import ModelEvaluation\n",
    "\n",
    "try:\n",
    "    # Configuration for Model Evaluation\n",
    "    config = ConfigurationManager()\n",
    "    model_evaluation_config = config.get_model_evaluation_config()\n",
    "    \n",
    "    # Initialize the ModelEvaluation component\n",
    "    model_evaluation = ModelEvaluation(config=model_evaluation_config)\n",
    "    \n",
    "    # Load the model and evaluate\n",
    "    model_evaluation.load_model()\n",
    "    model_evaluation.evaluate()\n",
    "    \n",
    "    logger.info(\"Model evaluation pipeline completed successfully.\")\n",
    "\n",
    "except Exception as e:\n",
    "    logger.error(f\"Pipeline failed due to: {e}\")\n"
   ]
  },
  {
   "cell_type": "code",
   "execution_count": null,
   "metadata": {},
   "outputs": [],
   "source": []
  }
 ],
 "metadata": {
  "kernelspec": {
   "display_name": "Python 3",
   "language": "python",
   "name": "python3"
  },
  "language_info": {
   "codemirror_mode": {
    "name": "ipython",
    "version": 3
   },
   "file_extension": ".py",
   "mimetype": "text/x-python",
   "name": "python",
   "nbconvert_exporter": "python",
   "pygments_lexer": "ipython3",
   "version": "3.8.19"
  }
 },
 "nbformat": 4,
 "nbformat_minor": 2
}
