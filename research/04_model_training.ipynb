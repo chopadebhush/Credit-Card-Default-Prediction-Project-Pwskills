{
 "cells": [
  {
   "cell_type": "code",
   "execution_count": 19,
   "metadata": {},
   "outputs": [],
   "source": [
    "import os"
   ]
  },
  {
   "cell_type": "code",
   "execution_count": 20,
   "metadata": {},
   "outputs": [
    {
     "data": {
      "text/plain": [
       "'c:\\\\Users\\\\SIR\\\\Credit-Card-Default-Prediction-Project-Pwskills'"
      ]
     },
     "execution_count": 20,
     "metadata": {},
     "output_type": "execute_result"
    }
   ],
   "source": [
    "%pwd"
   ]
  },
  {
   "cell_type": "code",
   "execution_count": 12,
   "metadata": {},
   "outputs": [],
   "source": [
    "os.chdir(\"../\")"
   ]
  },
  {
   "cell_type": "code",
   "execution_count": 21,
   "metadata": {},
   "outputs": [
    {
     "data": {
      "text/plain": [
       "'c:\\\\Users\\\\SIR\\\\Credit-Card-Default-Prediction-Project-Pwskills'"
      ]
     },
     "execution_count": 21,
     "metadata": {},
     "output_type": "execute_result"
    }
   ],
   "source": [
    "%pwd"
   ]
  },
  {
   "cell_type": "code",
   "execution_count": 22,
   "metadata": {},
   "outputs": [],
   "source": [
    "from dataclasses import dataclass\n",
    "from pathlib import Path\n",
    "\n",
    "@dataclass(frozen=True)\n",
    "class ModelTrainingConfig:\n",
    "    model_dir: Path\n",
    "    model_file: Path\n",
    "    train_file: Path\n",
    "    test_file: Path"
   ]
  },
  {
   "cell_type": "code",
   "execution_count": 23,
   "metadata": {},
   "outputs": [],
   "source": [
    "from ccdp.constants import *\n",
    "from ccdp.utils.common import read_yaml, create_directories"
   ]
  },
  {
   "cell_type": "code",
   "execution_count": 24,
   "metadata": {},
   "outputs": [],
   "source": [
    "class ConfigurationManager:\n",
    "    def __init__(self, config_filepath=CONFIG_FILE_PATH, params_filepath=PARAMS_FILE_PATH):\n",
    "        self.config = read_yaml(config_filepath)\n",
    "        self.params = read_yaml(params_filepath)\n",
    "        \n",
    "        create_directories([self.config.artifacts_root])\n",
    "\n",
    "    #Model Training Configuration\n",
    "    def get_model_training_config(self) -> ModelTrainingConfig:\n",
    "        config = self.config.model_training\n",
    "\n",
    "        create_directories([config.model_dir])\n",
    "\n",
    "        model_training_config = ModelTrainingConfig(\n",
    "            model_dir=Path(config.model_dir),\n",
    "            model_file=Path(config.model_file),\n",
    "            train_file=Path(config.train_file),\n",
    "            test_file=Path(config.test_file)\n",
    "        )\n",
    "\n",
    "        return model_training_config\n"
   ]
  },
  {
   "cell_type": "code",
   "execution_count": 25,
   "metadata": {},
   "outputs": [],
   "source": [
    "import os\n",
    "import pandas as pd\n",
    "from sklearn.model_selection import train_test_split\n",
    "from sklearn.ensemble import RandomForestClassifier\n",
    "from sklearn.metrics import accuracy_score, classification_report\n",
    "from pathlib import Path\n",
    "from ccdp.logging import logger\n",
    "import pickle\n",
    "\n",
    "class ModelTraining:\n",
    "    def __init__(self, config: ModelTrainingConfig):\n",
    "        self.config = config\n",
    "        self.model = RandomForestClassifier()\n",
    "\n",
    "    def load_data(self) -> tuple:\n",
    "        \"\"\"\n",
    "        Load the transformed training and testing data.\n",
    "        \"\"\"\n",
    "        train_df = pd.read_csv(self.config.train_file)\n",
    "        test_df = pd.read_csv(self.config.test_file)\n",
    "\n",
    "        X_train = train_df.drop(columns=[\"default\"])\n",
    "        y_train = train_df[\"default\"]\n",
    "        \n",
    "        X_test = test_df.drop(columns=[\"default\"])\n",
    "        y_test = test_df[\"default\"]\n",
    "\n",
    "        return X_train, y_train, X_test, y_test\n",
    "\n",
    "    def train_model(self, X_train, y_train):\n",
    "        \"\"\"\n",
    "        Train the model on the training data.\n",
    "        \"\"\"\n",
    "        logger.info(\"Training the model...\")\n",
    "        self.model.fit(X_train, y_train)\n",
    "        logger.info(\"Model training completed.\")\n",
    "\n",
    "    def evaluate_model(self, X_test, y_test):\n",
    "        \"\"\"\n",
    "        Evaluate the trained model on the test data.\n",
    "        \"\"\"\n",
    "        logger.info(\"Evaluating the model...\")\n",
    "        y_pred = self.model.predict(X_test)\n",
    "        accuracy = accuracy_score(y_test, y_pred)\n",
    "        report = classification_report(y_test, y_pred)\n",
    "        \n",
    "        logger.info(f\"Model accuracy: {accuracy}\")\n",
    "        logger.info(f\"Classification report:\\n{report}\")\n",
    "\n",
    "    def save_model(self):\n",
    "        \"\"\"\n",
    "        Save the trained model to disk.\n",
    "        \"\"\"\n",
    "        os.makedirs(os.path.dirname(self.config.model_file), exist_ok=True)\n",
    "        with open(self.config.model_file, \"wb\") as model_file:\n",
    "            pickle.dump(self.model, model_file)\n",
    "        logger.info(f\"Trained model saved to {self.config.model_file}\")\n",
    "\n",
    "    def run_training(self):\n",
    "        \"\"\"\n",
    "        Complete the training pipeline: load data, train model, evaluate, and save the model.\n",
    "        \"\"\"\n",
    "        X_train, y_train, X_test, y_test = self.load_data()\n",
    "        self.train_model(X_train, y_train)\n",
    "        self.evaluate_model(X_test, y_test)\n",
    "        self.save_model()"
   ]
  },
  {
   "cell_type": "code",
   "execution_count": 26,
   "metadata": {},
   "outputs": [
    {
     "name": "stdout",
     "output_type": "stream",
     "text": [
      "[2024-08-20 23:26:59,957: INFO: common: yaml file: config\\config.yaml loaded successfully]\n",
      "[2024-08-20 23:26:59,962: INFO: common: yaml file: params.yaml loaded successfully]\n",
      "[2024-08-20 23:26:59,964: INFO: common: created directory at: artifacts]\n",
      "[2024-08-20 23:26:59,967: INFO: common: created directory at: artifacts/model_training/models]\n",
      "[2024-08-20 23:27:00,345: INFO: 3057392489: Training the model...]\n",
      "[2024-08-20 23:27:11,744: INFO: 3057392489: Model training completed.]\n",
      "[2024-08-20 23:27:11,745: INFO: 3057392489: Evaluating the model...]\n",
      "[2024-08-20 23:27:11,915: INFO: 3057392489: Model accuracy: 0.818]\n",
      "[2024-08-20 23:27:11,916: INFO: 3057392489: Classification report:\n",
      "              precision    recall  f1-score   support\n",
      "\n",
      "           0       0.84      0.95      0.89      3505\n",
      "           1       0.66      0.36      0.47       995\n",
      "\n",
      "    accuracy                           0.82      4500\n",
      "   macro avg       0.75      0.65      0.68      4500\n",
      "weighted avg       0.80      0.82      0.80      4500\n",
      "]\n",
      "[2024-08-20 23:27:12,000: INFO: 3057392489: Trained model saved to artifacts\\model_training\\models\\model.pkl]\n",
      "[2024-08-20 23:27:12,002: INFO: 3131346894: Model training pipeline completed successfully.]\n"
     ]
    }
   ],
   "source": [
    "#from ccdp.config.configuration import ConfigurationManager\n",
    "#from ccdp.components.model_training import ModelTraining\n",
    "#from ccdp.logging import logger\n",
    "\n",
    "try:\n",
    "    #Load the configuration for model training\n",
    "    config = ConfigurationManager()\n",
    "    model_training_config = config.get_model_training_config()\n",
    "    \n",
    "    #Initialize the ModelTraining component\n",
    "    model_training = ModelTraining(config=model_training_config)\n",
    "    \n",
    "    #Run the model training process\n",
    "    model_training.run_training()\n",
    "    \n",
    "    logger.info(\"Model training pipeline completed successfully.\")\n",
    "\n",
    "except Exception as e:\n",
    "    logger.error(f\"Pipeline failed due to: {e}\")\n"
   ]
  },
  {
   "cell_type": "code",
   "execution_count": null,
   "metadata": {},
   "outputs": [],
   "source": []
  }
 ],
 "metadata": {
  "kernelspec": {
   "display_name": "Python 3",
   "language": "python",
   "name": "python3"
  },
  "language_info": {
   "codemirror_mode": {
    "name": "ipython",
    "version": 3
   },
   "file_extension": ".py",
   "mimetype": "text/x-python",
   "name": "python",
   "nbconvert_exporter": "python",
   "pygments_lexer": "ipython3",
   "version": "3.8.19"
  }
 },
 "nbformat": 4,
 "nbformat_minor": 2
}
