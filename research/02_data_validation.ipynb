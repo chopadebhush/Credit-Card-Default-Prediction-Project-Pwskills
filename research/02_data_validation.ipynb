{
 "cells": [
  {
   "cell_type": "code",
   "execution_count": 1,
   "metadata": {},
   "outputs": [],
   "source": [
    "import os"
   ]
  },
  {
   "cell_type": "code",
   "execution_count": 2,
   "metadata": {},
   "outputs": [
    {
     "data": {
      "text/plain": [
       "'c:\\\\Users\\\\SIR\\\\Credit-Card-Default-Prediction-Project-Pwskills\\\\research'"
      ]
     },
     "execution_count": 2,
     "metadata": {},
     "output_type": "execute_result"
    }
   ],
   "source": [
    "%pwd"
   ]
  },
  {
   "cell_type": "code",
   "execution_count": 3,
   "metadata": {},
   "outputs": [],
   "source": [
    "os.chdir(\"../\")"
   ]
  },
  {
   "cell_type": "code",
   "execution_count": 4,
   "metadata": {},
   "outputs": [
    {
     "data": {
      "text/plain": [
       "'c:\\\\Users\\\\SIR\\\\Credit-Card-Default-Prediction-Project-Pwskills'"
      ]
     },
     "execution_count": 4,
     "metadata": {},
     "output_type": "execute_result"
    }
   ],
   "source": [
    "%pwd"
   ]
  },
  {
   "cell_type": "code",
   "execution_count": 12,
   "metadata": {},
   "outputs": [],
   "source": [
    "from dataclasses import dataclass\n",
    "from pathlib import Path\n",
    "\n",
    "@dataclass(frozen=True)\n",
    "class DataValidationConfig:\n",
    "    root_dir: Path\n",
    "    validation_dir: Path\n",
    "    STATUS_FILE: Path\n",
    "    ALL_REQUIRED_FILES: list"
   ]
  },
  {
   "cell_type": "code",
   "execution_count": 13,
   "metadata": {},
   "outputs": [],
   "source": [
    "from ccdp.constants import *\n",
    "from ccdp.utils.common import read_yaml, create_directories"
   ]
  },
  {
   "cell_type": "code",
   "execution_count": 17,
   "metadata": {},
   "outputs": [],
   "source": [
    "#from entity.data_validation_config import DataValidationConfig\n",
    "from ccdp.constants import *\n",
    "from pathlib import Path\n",
    "\n",
    "class ConfigurationManager:\n",
    "    def __init__(\n",
    "        self,\n",
    "        config_filepath=CONFIG_FILE_PATH,\n",
    "        params_filepath=PARAMS_FILE_PATH):\n",
    "        \n",
    "        self.config = read_yaml(config_filepath)\n",
    "        self.params = read_yaml(params_filepath)\n",
    "        \n",
    "        create_directories([self.config.artifacts_root])\n",
    "    \n",
    "    def get_data_validation_config(self) -> DataValidationConfig:\n",
    "        config = self.config.data_validation\n",
    "\n",
    "        create_directories([config.root_dir],[config.validation_dir])\n",
    "\n",
    "        data_validation_config = DataValidationConfig(\n",
    "            root_dir=Path(config.root_dir),\n",
    "            validation_dir=Path(config.validation_dir),\n",
    "            STATUS_FILE=Path(config.STATUS_FILE),\n",
    "            ALL_REQUIRED_FILES=config.ALL_REQUIRED_FILES\n",
    "        )\n",
    "\n",
    "        return data_validation_config\n"
   ]
  },
  {
   "cell_type": "code",
   "execution_count": 20,
   "metadata": {},
   "outputs": [],
   "source": [
    "import os\n",
    "import pandas as pd\n",
    "from pathlib import Path\n",
    "from ccdp.logging import logger\n",
    "#from entity.data_validation_config import DataValidationConfig\n",
    "\n",
    "class DataValidation:\n",
    "    def __init__(self, config: DataValidationConfig):\n",
    "        self.config = config\n",
    "\n",
    "    def validate_all_files_exist(self) -> bool:\n",
    "        missing_files = []\n",
    "        for file_name in self.config.ALL_REQUIRED_FILES:\n",
    "            file_path = self.config.validation_dir / f\"{file_name}.csv\"\n",
    "            if not file_path.exists():\n",
    "                missing_files.append(file_name)\n",
    "        \n",
    "        if missing_files:\n",
    "            logger.error(f\"Missing files: {missing_files}\")\n",
    "            return False\n",
    "        \n",
    "        logger.info(f\"All required files are present: {self.config.ALL_REQUIRED_FILES}\")\n",
    "        return True\n",
    "    \n",
    "    def validate_schema(self, file_path: Path, expected_columns: list) -> bool:\n",
    "        try:\n",
    "            df = pd.read_csv(file_path)\n",
    "            actual_columns = df.columns.tolist()\n",
    "            if actual_columns == expected_columns:\n",
    "                logger.info(f\"Schema validation passed for {file_path}\")\n",
    "                return True\n",
    "            else:\n",
    "                logger.error(f\"Schema validation failed for {file_path}. Expected {expected_columns}, got {actual_columns}\")\n",
    "                return False\n",
    "        except Exception as e:\n",
    "            logger.error(f\"Error during schema validation for {file_path}: {e}\")\n",
    "            return False\n",
    "\n",
    "    def validate_data(self) -> bool:\n",
    "        # Check if all files exist\n",
    "        validation_status = self.validate_all_files_exist()\n",
    "\n",
    "        if validation_status:\n",
    "            # Validate schema of each file if all files exist\n",
    "            expected_columns = [\"LIMIT_BAL\", \"SEX\", \"EDUCATION\", \"MARRIAGE\", \"AGE\", \n",
    "                                \"PAY_SEPT\", \"PAY_AUG\", \"PAY_JUL\", \"PAY_JUN\", \"PAY_MAY\", \"PAY_APR\",\n",
    "                                \"BILL_AMT_SEPT\", \"BILL_AMT_AUG\", \"BILL_AMT_JUL\", \"BILL_AMT_JUN\", \"BILL_AMT_MAY\", \"BILL_AMT_APR\",\n",
    "                                \"PAY_AMT_SEPT\", \"PAY_AMT_AUG\", \"PAY_AMT_JUL\", \"PAY_AMT_JUN\", \"PAY_AMT_MAY\", \"PAY_AMT_APR\",\n",
    "                                \"default\"]\n",
    "\n",
    "            for file_name in self.config.ALL_REQUIRED_FILES:\n",
    "                file_path = self.config.validation_dir / f\"{file_name}.csv\"\n",
    "                if not self.validate_schema(file_path, expected_columns):\n",
    "                    validation_status = False\n",
    "                    break\n",
    "\n",
    "        # Ensure the artifacts/data_validation directory exists\n",
    "        os.makedirs(os.path.dirname(self.config.STATUS_FILE), exist_ok=True)\n",
    "\n",
    "        # Save validation status to status.txt\n",
    "        self.save_validation_status(validation_status)\n",
    "\n",
    "        if validation_status:\n",
    "            logger.info(\"Data validation passed for all files.\")\n",
    "        else:\n",
    "            logger.error(\"Data validation failed.\")\n",
    "        \n",
    "        return validation_status\n",
    "    \n",
    "    def save_validation_status(self, validation_status: bool):\n",
    "        status_file_path = self.config.STATUS_FILE\n",
    "        with open(status_file_path, \"w\") as status_file:\n",
    "            status_file.write(f\"Validation status: {validation_status}\")\n",
    "        logger.info(f\"Validation status saved to {status_file_path}\")\n"
   ]
  },
  {
   "cell_type": "code",
   "execution_count": 21,
   "metadata": {},
   "outputs": [
    {
     "name": "stdout",
     "output_type": "stream",
     "text": [
      "[2024-08-18 09:47:10,033: INFO: common: yaml file: config\\config.yaml loaded successfully]\n",
      "[2024-08-18 09:47:10,037: INFO: common: yaml file: params.yaml loaded successfully]\n",
      "[2024-08-18 09:47:10,040: INFO: common: created directory at: artifacts]\n",
      "[2024-08-18 09:47:10,043: INFO: common: created directory at: artifacts/data_validation]\n",
      "[2024-08-18 09:47:10,047: INFO: 1180685924: All required files are present: ['train', 'test', 'validation']]\n",
      "[2024-08-18 09:47:10,229: INFO: 1180685924: Schema validation passed for artifacts\\data_ingestion\\Cleaned_CCD\\train.csv]\n",
      "[2024-08-18 09:47:10,275: INFO: 1180685924: Schema validation passed for artifacts\\data_ingestion\\Cleaned_CCD\\test.csv]\n",
      "[2024-08-18 09:47:10,310: INFO: 1180685924: Schema validation passed for artifacts\\data_ingestion\\Cleaned_CCD\\validation.csv]\n",
      "[2024-08-18 09:47:10,313: INFO: 1180685924: Validation status saved to artifacts\\data_validation\\status.txt]\n",
      "[2024-08-18 09:47:10,315: INFO: 1180685924: Data validation passed for all files.]\n",
      "[2024-08-18 09:47:10,322: INFO: 3412545734: Data validation succeeded.]\n"
     ]
    }
   ],
   "source": [
    "#rom component.data_validation import DataValidation\n",
    "#from config.configuration import ConfigurationManager\n",
    "\n",
    "try:\n",
    "    config = ConfigurationManager()\n",
    "\n",
    "    # Data Ingestion Step\n",
    "    # data_ingestion_config = config.get_data_ingestion_config()\n",
    "    # data_ingestion = DataIngestion(config=data_ingestion_config)\n",
    "    # data_ingestion.download_file()\n",
    "    # data_ingestion.extract_zip_file()\n",
    "\n",
    "    # Data Validation Step\n",
    "    data_validation_config = config.get_data_validation_config()\n",
    "    data_validation = DataValidation(config=data_validation_config)\n",
    "    \n",
    "    if not data_validation.validate_data():\n",
    "        raise Exception(\"Data validation failed!\")\n",
    "    \n",
    "    logger.info(\"Data validation succeeded.\")\n",
    "\n",
    "except Exception as e:\n",
    "    logger.error(f\"Pipeline failed due to: {e}\")\n"
   ]
  },
  {
   "cell_type": "code",
   "execution_count": null,
   "metadata": {},
   "outputs": [],
   "source": []
  },
  {
   "cell_type": "code",
   "execution_count": null,
   "metadata": {},
   "outputs": [],
   "source": []
  }
 ],
 "metadata": {
  "kernelspec": {
   "display_name": "Python 3",
   "language": "python",
   "name": "python3"
  },
  "language_info": {
   "codemirror_mode": {
    "name": "ipython",
    "version": 3
   },
   "file_extension": ".py",
   "mimetype": "text/x-python",
   "name": "python",
   "nbconvert_exporter": "python",
   "pygments_lexer": "ipython3",
   "version": "3.8.19"
  }
 },
 "nbformat": 4,
 "nbformat_minor": 2
}
